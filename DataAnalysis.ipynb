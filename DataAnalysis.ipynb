﻿{
 "cells": [
  {
   "cell_type": "code",
   "id": "initial_id",
   "metadata": {
    "collapsed": true,
    "ExecuteTime": {
     "end_time": "2024-09-14T00:17:16.196189Z",
     "start_time": "2024-09-14T00:17:16.191465Z"
    }
   },
   "source": [
    "# Data Pre-Processing\n",
    "\n",
    "# Handling missing values"
   ],
   "outputs": [],
   "execution_count": 1
  },
  {
   "metadata": {
    "ExecuteTime": {
     "end_time": "2024-09-14T00:17:17.264295Z",
     "start_time": "2024-09-14T00:17:16.202672Z"
    }
   },
   "cell_type": "code",
   "source": [
    "import numpy as np\n",
    "import pandas as pd\n"
   ],
   "id": "a759c9fe91741892",
   "outputs": [],
   "execution_count": 2
  },
  {
   "metadata": {
    "ExecuteTime": {
     "end_time": "2024-09-14T00:17:17.282636Z",
     "start_time": "2024-09-14T00:17:17.266511Z"
    }
   },
   "cell_type": "code",
   "source": [
    "# read data from csv\n",
    "data = pd.read_csv('Dataset.csv')"
   ],
   "id": "60f46781a1abdd",
   "outputs": [],
   "execution_count": 3
  },
  {
   "metadata": {
    "ExecuteTime": {
     "end_time": "2024-09-14T00:17:17.310352Z",
     "start_time": "2024-09-14T00:17:17.283633Z"
    }
   },
   "cell_type": "code",
   "source": "data.info()",
   "id": "457744bb2e6a02e5",
   "outputs": [
    {
     "name": "stdout",
     "output_type": "stream",
     "text": [
      "<class 'pandas.core.frame.DataFrame'>\n",
      "RangeIndex: 2023 entries, 0 to 2022\n",
      "Data columns (total 4 columns):\n",
      " #   Column          Non-Null Count  Dtype  \n",
      "---  ------          --------------  -----  \n",
      " 0   Customer ID     2023 non-null   int64  \n",
      " 1   Age             2008 non-null   float64\n",
      " 2   Gender          2008 non-null   object \n",
      " 3   Item Purchased  2023 non-null   object \n",
      "dtypes: float64(1), int64(1), object(2)\n",
      "memory usage: 63.3+ KB\n"
     ]
    }
   ],
   "execution_count": 4
  },
  {
   "metadata": {
    "ExecuteTime": {
     "end_time": "2024-09-14T00:17:17.317408Z",
     "start_time": "2024-09-14T00:17:17.313697Z"
    }
   },
   "cell_type": "code",
   "source": "import numpy as np",
   "id": "8d28f73383d9e4ba",
   "outputs": [],
   "execution_count": 5
  },
  {
   "metadata": {
    "ExecuteTime": {
     "end_time": "2024-09-14T00:17:17.345933Z",
     "start_time": "2024-09-14T00:17:17.320421Z"
    }
   },
   "cell_type": "code",
   "source": [
    "## We see that there are missing values in Age and Gender column\n",
    "data['Age']=data['Age'].fillna(data['Age'].median()) ## filled missing data using median\n",
    "data['Gender']=data['Gender'].fillna(data['Gender'].mode()[0]) ## filled categorical data using mode\n"
   ],
   "id": "1f3b6a7122311dd3",
   "outputs": [],
   "execution_count": 6
  },
  {
   "metadata": {
    "ExecuteTime": {
     "end_time": "2024-09-14T00:17:17.357812Z",
     "start_time": "2024-09-14T00:17:17.348138Z"
    }
   },
   "cell_type": "code",
   "source": "data.info()",
   "id": "2cda661c91cb8c2a",
   "outputs": [
    {
     "name": "stdout",
     "output_type": "stream",
     "text": [
      "<class 'pandas.core.frame.DataFrame'>\n",
      "RangeIndex: 2023 entries, 0 to 2022\n",
      "Data columns (total 4 columns):\n",
      " #   Column          Non-Null Count  Dtype  \n",
      "---  ------          --------------  -----  \n",
      " 0   Customer ID     2023 non-null   int64  \n",
      " 1   Age             2023 non-null   float64\n",
      " 2   Gender          2023 non-null   object \n",
      " 3   Item Purchased  2023 non-null   object \n",
      "dtypes: float64(1), int64(1), object(2)\n",
      "memory usage: 63.3+ KB\n"
     ]
    }
   ],
   "execution_count": 7
  },
  {
   "metadata": {
    "ExecuteTime": {
     "end_time": "2024-09-14T00:17:17.374455Z",
     "start_time": "2024-09-14T00:17:17.360013Z"
    }
   },
   "cell_type": "code",
   "source": [
    "## remove duplicates\n",
    "data_removed_duplicates = data.drop_duplicates()"
   ],
   "id": "d52409b5ec2060fb",
   "outputs": [],
   "execution_count": 8
  },
  {
   "metadata": {
    "ExecuteTime": {
     "end_time": "2024-09-14T00:17:17.387383Z",
     "start_time": "2024-09-14T00:17:17.376953Z"
    }
   },
   "cell_type": "code",
   "source": "data_removed_duplicates.info()",
   "id": "edb76d328c4ebadd",
   "outputs": [
    {
     "name": "stdout",
     "output_type": "stream",
     "text": [
      "<class 'pandas.core.frame.DataFrame'>\n",
      "Index: 2000 entries, 0 to 2002\n",
      "Data columns (total 4 columns):\n",
      " #   Column          Non-Null Count  Dtype  \n",
      "---  ------          --------------  -----  \n",
      " 0   Customer ID     2000 non-null   int64  \n",
      " 1   Age             2000 non-null   float64\n",
      " 2   Gender          2000 non-null   object \n",
      " 3   Item Purchased  2000 non-null   object \n",
      "dtypes: float64(1), int64(1), object(2)\n",
      "memory usage: 78.1+ KB\n"
     ]
    }
   ],
   "execution_count": 9
  },
  {
   "metadata": {
    "ExecuteTime": {
     "end_time": "2024-09-14T00:17:17.399838Z",
     "start_time": "2024-09-14T00:17:17.389541Z"
    }
   },
   "cell_type": "code",
   "source": [
    "bins = [0, 18, 30, 50, 65, 100]\n",
    "labels = ['0-18', '19-30', '31-50', '51-65', '66+']\n",
    "data_copy = data_removed_duplicates.copy()\n",
    "data_copy['Age group']= pd.cut(data_copy['Age'], bins=bins, labels=labels, right=False)\n"
   ],
   "id": "1750313ae1760df0",
   "outputs": [],
   "execution_count": 10
  },
  {
   "metadata": {
    "ExecuteTime": {
     "end_time": "2024-09-14T00:17:17.446112Z",
     "start_time": "2024-09-14T00:17:17.404742Z"
    }
   },
   "cell_type": "code",
   "source": "data_copy",
   "id": "114de81c5afa69c7",
   "outputs": [
    {
     "data": {
      "text/plain": [
       "      Customer ID   Age Gender Item Purchased Age group\n",
       "0            1994  32.0   Male         Blouse     31-50\n",
       "1            1995  33.0   Male     Sunglasses     31-50\n",
       "2            1996  67.0   Male          Boots       66+\n",
       "3            1997  67.0   Male       Sneakers       66+\n",
       "4            1998  42.0   Male       Backpack     31-50\n",
       "...           ...   ...    ...            ...       ...\n",
       "1998         1989  46.0   Male          Pants     31-50\n",
       "1999         1990  35.0   Male        Jewelry     31-50\n",
       "2000         1991  32.0   Male       Backpack     31-50\n",
       "2001         1992  46.0   Male       Sneakers     31-50\n",
       "2002         1993  33.0   Male         Hoodie     31-50\n",
       "\n",
       "[2000 rows x 5 columns]"
      ],
      "text/html": [
       "<div>\n",
       "<style scoped>\n",
       "    .dataframe tbody tr th:only-of-type {\n",
       "        vertical-align: middle;\n",
       "    }\n",
       "\n",
       "    .dataframe tbody tr th {\n",
       "        vertical-align: top;\n",
       "    }\n",
       "\n",
       "    .dataframe thead th {\n",
       "        text-align: right;\n",
       "    }\n",
       "</style>\n",
       "<table border=\"1\" class=\"dataframe\">\n",
       "  <thead>\n",
       "    <tr style=\"text-align: right;\">\n",
       "      <th></th>\n",
       "      <th>Customer ID</th>\n",
       "      <th>Age</th>\n",
       "      <th>Gender</th>\n",
       "      <th>Item Purchased</th>\n",
       "      <th>Age group</th>\n",
       "    </tr>\n",
       "  </thead>\n",
       "  <tbody>\n",
       "    <tr>\n",
       "      <th>0</th>\n",
       "      <td>1994</td>\n",
       "      <td>32.0</td>\n",
       "      <td>Male</td>\n",
       "      <td>Blouse</td>\n",
       "      <td>31-50</td>\n",
       "    </tr>\n",
       "    <tr>\n",
       "      <th>1</th>\n",
       "      <td>1995</td>\n",
       "      <td>33.0</td>\n",
       "      <td>Male</td>\n",
       "      <td>Sunglasses</td>\n",
       "      <td>31-50</td>\n",
       "    </tr>\n",
       "    <tr>\n",
       "      <th>2</th>\n",
       "      <td>1996</td>\n",
       "      <td>67.0</td>\n",
       "      <td>Male</td>\n",
       "      <td>Boots</td>\n",
       "      <td>66+</td>\n",
       "    </tr>\n",
       "    <tr>\n",
       "      <th>3</th>\n",
       "      <td>1997</td>\n",
       "      <td>67.0</td>\n",
       "      <td>Male</td>\n",
       "      <td>Sneakers</td>\n",
       "      <td>66+</td>\n",
       "    </tr>\n",
       "    <tr>\n",
       "      <th>4</th>\n",
       "      <td>1998</td>\n",
       "      <td>42.0</td>\n",
       "      <td>Male</td>\n",
       "      <td>Backpack</td>\n",
       "      <td>31-50</td>\n",
       "    </tr>\n",
       "    <tr>\n",
       "      <th>...</th>\n",
       "      <td>...</td>\n",
       "      <td>...</td>\n",
       "      <td>...</td>\n",
       "      <td>...</td>\n",
       "      <td>...</td>\n",
       "    </tr>\n",
       "    <tr>\n",
       "      <th>1998</th>\n",
       "      <td>1989</td>\n",
       "      <td>46.0</td>\n",
       "      <td>Male</td>\n",
       "      <td>Pants</td>\n",
       "      <td>31-50</td>\n",
       "    </tr>\n",
       "    <tr>\n",
       "      <th>1999</th>\n",
       "      <td>1990</td>\n",
       "      <td>35.0</td>\n",
       "      <td>Male</td>\n",
       "      <td>Jewelry</td>\n",
       "      <td>31-50</td>\n",
       "    </tr>\n",
       "    <tr>\n",
       "      <th>2000</th>\n",
       "      <td>1991</td>\n",
       "      <td>32.0</td>\n",
       "      <td>Male</td>\n",
       "      <td>Backpack</td>\n",
       "      <td>31-50</td>\n",
       "    </tr>\n",
       "    <tr>\n",
       "      <th>2001</th>\n",
       "      <td>1992</td>\n",
       "      <td>46.0</td>\n",
       "      <td>Male</td>\n",
       "      <td>Sneakers</td>\n",
       "      <td>31-50</td>\n",
       "    </tr>\n",
       "    <tr>\n",
       "      <th>2002</th>\n",
       "      <td>1993</td>\n",
       "      <td>33.0</td>\n",
       "      <td>Male</td>\n",
       "      <td>Hoodie</td>\n",
       "      <td>31-50</td>\n",
       "    </tr>\n",
       "  </tbody>\n",
       "</table>\n",
       "<p>2000 rows × 5 columns</p>\n",
       "</div>"
      ]
     },
     "execution_count": 11,
     "metadata": {},
     "output_type": "execute_result"
    }
   ],
   "execution_count": 11
  },
  {
   "metadata": {
    "ExecuteTime": {
     "end_time": "2024-09-14T00:17:17.452901Z",
     "start_time": "2024-09-14T00:17:17.447618Z"
    }
   },
   "cell_type": "code",
   "source": [
    "# Purchased count\n",
    "item_purchased_count = data_copy['Item Purchased'].value_counts() "
   ],
   "id": "fcde31bea2d119e1",
   "outputs": [],
   "execution_count": 12
  },
  {
   "metadata": {
    "ExecuteTime": {
     "end_time": "2024-09-14T00:17:17.461209Z",
     "start_time": "2024-09-14T00:17:17.454423Z"
    }
   },
   "cell_type": "code",
   "source": "data_summary = data_copy['Age'].describe() # summary table",
   "id": "b6e8ca9d2266f4f4",
   "outputs": [],
   "execution_count": 13
  },
  {
   "metadata": {
    "ExecuteTime": {
     "end_time": "2024-09-14T00:34:01.070724Z",
     "start_time": "2024-09-14T00:34:01.025346Z"
    }
   },
   "cell_type": "code",
   "source": "gender_item_purchased_dist = data_copy.groupby(['Item Purchased', 'Gender'],observed = False).size().unstack(fill_value=0)\n",
   "id": "1be75499245d9701",
   "outputs": [],
   "execution_count": 31
  },
  {
   "metadata": {
    "ExecuteTime": {
     "end_time": "2024-09-14T00:17:17.483187Z",
     "start_time": "2024-09-14T00:17:17.474374Z"
    }
   },
   "cell_type": "code",
   "source": "item_purchased_count # Item popularity",
   "id": "4fd4adaa4dad1c83",
   "outputs": [
    {
     "data": {
      "text/plain": [
       "Item Purchased\n",
       "Pants         99\n",
       "Sweater       94\n",
       "Jewelry       94\n",
       "Coat          87\n",
       "Hat           86\n",
       "Dress         86\n",
       "Shirt         84\n",
       "Hoodie        83\n",
       "Skirt         82\n",
       "Sneakers      82\n",
       "Belt          81\n",
       "Shorts        81\n",
       "Backpack      80\n",
       "Sunglasses    79\n",
       "T-shirt       77\n",
       "Jacket        77\n",
       "Gloves        76\n",
       "Scarf         75\n",
       "Boots         75\n",
       "Sandals       73\n",
       "Jeans         73\n",
       "Blouse        73\n",
       "Shoes         70\n",
       "Handbag       70\n",
       "Socks         63\n",
       "Name: count, dtype: int64"
      ]
     },
     "execution_count": 15,
     "metadata": {},
     "output_type": "execute_result"
    }
   ],
   "execution_count": 15
  },
  {
   "metadata": {
    "ExecuteTime": {
     "end_time": "2024-09-14T00:17:17.494038Z",
     "start_time": "2024-09-14T00:17:17.485792Z"
    }
   },
   "cell_type": "code",
   "source": "avg_age_per_item = data_copy.groupby(['Item Purchased'],observed = False)['Age'].mean() # average age per item\n",
   "id": "12b0c9e9253079ec",
   "outputs": [],
   "execution_count": 16
  },
  {
   "metadata": {
    "ExecuteTime": {
     "end_time": "2024-09-14T00:17:17.503628Z",
     "start_time": "2024-09-14T00:17:17.495713Z"
    }
   },
   "cell_type": "code",
   "source": "avg_age_per_item",
   "id": "ce407a31526cfb59",
   "outputs": [
    {
     "data": {
      "text/plain": [
       "Item Purchased\n",
       "Backpack      42.112500\n",
       "Belt          43.493827\n",
       "Blouse        44.712329\n",
       "Boots         46.706667\n",
       "Coat          44.919540\n",
       "Dress         45.313953\n",
       "Gloves        42.315789\n",
       "Handbag       46.200000\n",
       "Hat           43.395349\n",
       "Hoodie        44.397590\n",
       "Jacket        45.181818\n",
       "Jeans         42.438356\n",
       "Jewelry       45.872340\n",
       "Pants         43.878788\n",
       "Sandals       43.136986\n",
       "Scarf         45.360000\n",
       "Shirt         41.833333\n",
       "Shoes         44.742857\n",
       "Shorts        43.185185\n",
       "Skirt         46.536585\n",
       "Sneakers      43.304878\n",
       "Socks         45.174603\n",
       "Sunglasses    46.025316\n",
       "Sweater       42.723404\n",
       "T-shirt       43.480519\n",
       "Name: Age, dtype: float64"
      ]
     },
     "execution_count": 17,
     "metadata": {},
     "output_type": "execute_result"
    }
   ],
   "execution_count": 17
  },
  {
   "metadata": {
    "ExecuteTime": {
     "end_time": "2024-09-14T00:38:57.577811Z",
     "start_time": "2024-09-14T00:38:57.573740Z"
    }
   },
   "cell_type": "code",
   "source": "",
   "id": "568433098344aa93",
   "outputs": [],
   "execution_count": 35
  },
  {
   "metadata": {
    "ExecuteTime": {
     "end_time": "2024-09-14T00:39:14.409003Z",
     "start_time": "2024-09-14T00:39:14.006903Z"
    }
   },
   "cell_type": "code",
   "source": [
    "## Visualization\n",
    "# Gender distribution\n",
    "gender_item_purchased_dist.plot(kind=\"pie\",y=\"Male\")\n",
    "\n"
   ],
   "id": "dcf60a753943dd48",
   "outputs": [
    {
     "data": {
      "text/plain": [
       "<Axes: ylabel='Male'>"
      ]
     },
     "execution_count": 37,
     "metadata": {},
     "output_type": "execute_result"
    },
    {
     "data": {
      "text/plain": [
       "<Figure size 640x480 with 1 Axes>"
      ],
      "image/png": "[encoded data removed]"
     },
     "metadata": {},
     "output_type": "display_data"
    }
   ],
   "execution_count": 37
  },
  {
   "metadata": {
    "ExecuteTime": {
     "end_time": "2024-09-14T00:24:53.183022Z",
     "start_time": "2024-09-14T00:24:53.178570Z"
    }
   },
   "cell_type": "code",
   "source": "",
   "id": "42f917efb156f87",
   "outputs": [],
   "execution_count": 26
  },
  {
   "metadata": {
    "ExecuteTime": {
     "end_time": "2024-09-14T00:24:55.023772Z",
     "start_time": "2024-09-14T00:24:55.018261Z"
    }
   },
   "cell_type": "code",
   "source": "",
   "id": "f85339fb59c5d0ea",
   "outputs": [
    {
     "data": {
      "text/plain": [
       "<pandas.core.groupby.generic.DataFrameGroupBy object at 0x0000018CB7B44C50>"
      ]
     },
     "execution_count": 27,
     "metadata": {},
     "output_type": "execute_result"
    }
   ],
   "execution_count": 27
  },
  {
   "metadata": {},
   "cell_type": "code",
   "outputs": [],
   "execution_count": null,
   "source": "",
   "id": "aa375a7cfeaae5cf"
  }
 ],
 "metadata": {
  "kernelspec": {
   "display_name": "Python 3",
   "language": "python",
   "name": "python3"
  },
  "language_info": {
   "codemirror_mode": {
    "name": "ipython",
    "version": 2
   },
   "file_extension": ".py",
   "mimetype": "text/x-python",
   "name": "python",
   "nbconvert_exporter": "python",
   "pygments_lexer": "ipython2",
   "version": "2.7.6"
  }
 },
 "nbformat": 4,
 "nbformat_minor": 5
}
