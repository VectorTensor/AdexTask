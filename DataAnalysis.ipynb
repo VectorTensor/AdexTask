﻿{
 "cells": [
  {
   "cell_type": "code",
   "id": "initial_id",
   "metadata": {
    "collapsed": true,
    "ExecuteTime": {
     "end_time": "2024-09-13T13:30:47.061189Z",
     "start_time": "2024-09-13T13:30:47.056903Z"
    }
   },
   "source": [
    "# Data Pre-Processing\n",
    "\n",
    "# Handling missing values"
   ],
   "outputs": [],
   "execution_count": 96
  },
  {
   "metadata": {
    "ExecuteTime": {
     "end_time": "2024-09-13T13:30:47.278394Z",
     "start_time": "2024-09-13T13:30:47.273351Z"
    }
   },
   "cell_type": "code",
   "source": [
    "import numpy as np\n",
    "import pandas as pd\n"
   ],
   "id": "a759c9fe91741892",
   "outputs": [],
   "execution_count": 97
  },
  {
   "metadata": {
    "ExecuteTime": {
     "end_time": "2024-09-13T13:30:47.523003Z",
     "start_time": "2024-09-13T13:30:47.513374Z"
    }
   },
   "cell_type": "code",
   "source": [
    "# read data from csv\n",
    "data = pd.read_csv('Dataset.csv')"
   ],
   "id": "60f46781a1abdd",
   "outputs": [],
   "execution_count": 98
  },
  {
   "metadata": {
    "ExecuteTime": {
     "end_time": "2024-09-13T13:30:47.686149Z",
     "start_time": "2024-09-13T13:30:47.671902Z"
    }
   },
   "cell_type": "code",
   "source": "data.info()",
   "id": "457744bb2e6a02e5",
   "outputs": [
    {
     "name": "stdout",
     "output_type": "stream",
     "text": [
      "<class 'pandas.core.frame.DataFrame'>\n",
      "RangeIndex: 2023 entries, 0 to 2022\n",
      "Data columns (total 4 columns):\n",
      " #   Column          Non-Null Count  Dtype  \n",
      "---  ------          --------------  -----  \n",
      " 0   Customer ID     2023 non-null   int64  \n",
      " 1   Age             2008 non-null   float64\n",
      " 2   Gender          2008 non-null   object \n",
      " 3   Item Purchased  2023 non-null   object \n",
      "dtypes: float64(1), int64(1), object(2)\n",
      "memory usage: 63.3+ KB\n"
     ]
    }
   ],
   "execution_count": 99
  },
  {
   "metadata": {
    "ExecuteTime": {
     "end_time": "2024-09-13T13:30:47.955923Z",
     "start_time": "2024-09-13T13:30:47.951249Z"
    }
   },
   "cell_type": "code",
   "source": "import numpy as np",
   "id": "8d28f73383d9e4ba",
   "outputs": [],
   "execution_count": 100
  },
  {
   "metadata": {
    "ExecuteTime": {
     "end_time": "2024-09-13T13:30:48.189976Z",
     "start_time": "2024-09-13T13:30:48.176219Z"
    }
   },
   "cell_type": "code",
   "source": [
    "## We see that there are missing values in Age and Gender column\n",
    "data['Age']=data['Age'].fillna(data['Age'].median()) ## filled missing data using median\n",
    "data['Gender']=data['Gender'].fillna(data['Gender'].mode()[0]) ## filled categorical data using mode\n"
   ],
   "id": "1f3b6a7122311dd3",
   "outputs": [],
   "execution_count": 101
  },
  {
   "metadata": {
    "ExecuteTime": {
     "end_time": "2024-09-13T13:30:48.502471Z",
     "start_time": "2024-09-13T13:30:48.492797Z"
    }
   },
   "cell_type": "code",
   "source": "data.info()",
   "id": "2cda661c91cb8c2a",
   "outputs": [
    {
     "name": "stdout",
     "output_type": "stream",
     "text": [
      "<class 'pandas.core.frame.DataFrame'>\n",
      "RangeIndex: 2023 entries, 0 to 2022\n",
      "Data columns (total 4 columns):\n",
      " #   Column          Non-Null Count  Dtype  \n",
      "---  ------          --------------  -----  \n",
      " 0   Customer ID     2023 non-null   int64  \n",
      " 1   Age             2023 non-null   float64\n",
      " 2   Gender          2023 non-null   object \n",
      " 3   Item Purchased  2023 non-null   object \n",
      "dtypes: float64(1), int64(1), object(2)\n",
      "memory usage: 63.3+ KB\n"
     ]
    }
   ],
   "execution_count": 102
  },
  {
   "metadata": {
    "ExecuteTime": {
     "end_time": "2024-09-13T13:30:48.764011Z",
     "start_time": "2024-09-13T13:30:48.756606Z"
    }
   },
   "cell_type": "code",
   "source": [
    "## remove duplicates\n",
    "data_removed_duplicates = data.drop_duplicates()"
   ],
   "id": "d52409b5ec2060fb",
   "outputs": [],
   "execution_count": 103
  },
  {
   "metadata": {
    "ExecuteTime": {
     "end_time": "2024-09-13T13:30:50.080635Z",
     "start_time": "2024-09-13T13:30:50.069184Z"
    }
   },
   "cell_type": "code",
   "source": "data_removed_duplicates.info()",
   "id": "edb76d328c4ebadd",
   "outputs": [
    {
     "name": "stdout",
     "output_type": "stream",
     "text": [
      "<class 'pandas.core.frame.DataFrame'>\n",
      "Index: 2000 entries, 0 to 2002\n",
      "Data columns (total 4 columns):\n",
      " #   Column          Non-Null Count  Dtype  \n",
      "---  ------          --------------  -----  \n",
      " 0   Customer ID     2000 non-null   int64  \n",
      " 1   Age             2000 non-null   float64\n",
      " 2   Gender          2000 non-null   object \n",
      " 3   Item Purchased  2000 non-null   object \n",
      "dtypes: float64(1), int64(1), object(2)\n",
      "memory usage: 78.1+ KB\n"
     ]
    }
   ],
   "execution_count": 104
  },
  {
   "metadata": {
    "ExecuteTime": {
     "end_time": "2024-09-13T13:15:21.717160Z",
     "start_time": "2024-09-13T13:15:21.713011Z"
    }
   },
   "cell_type": "code",
   "source": "",
   "id": "1750313ae1760df0",
   "outputs": [],
   "execution_count": 69
  },
  {
   "metadata": {},
   "cell_type": "code",
   "outputs": [],
   "execution_count": null,
   "source": "",
   "id": "114de81c5afa69c7"
  }
 ],
 "metadata": {
  "kernelspec": {
   "display_name": "Python 3",
   "language": "python",
   "name": "python3"
  },
  "language_info": {
   "codemirror_mode": {
    "name": "ipython",
    "version": 2
   },
   "file_extension": ".py",
   "mimetype": "text/x-python",
   "name": "python",
   "nbconvert_exporter": "python",
   "pygments_lexer": "ipython2",
   "version": "2.7.6"
  }
 },
 "nbformat": 4,
 "nbformat_minor": 5
}
